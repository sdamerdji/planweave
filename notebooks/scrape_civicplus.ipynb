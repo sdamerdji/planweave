{
 "cells": [
  {
   "cell_type": "code",
   "execution_count": 2,
   "id": "8460401f-4481-4e72-a799-fd4cfb7bd998",
   "metadata": {},
   "outputs": [],
   "source": [
    "import pandas as pd\n",
    "from civic_scraper.platforms import CivicPlusSite"
   ]
  },
  {
   "cell_type": "code",
   "execution_count": 3,
   "id": "276dc57c-18b7-49dc-a223-f26028ae2d01",
   "metadata": {},
   "outputs": [],
   "source": [
    "df = pd.read_csv('hearings.csv', skiprows=1)\n",
    "df = df.iloc[:, :8]\n",
    "df = df[['County', 'Jurisdiction', 'RHNA', 'Agenda Page']]\n",
    "df = df[df['Agenda Page'].notna()]"
   ]
  },
  {
   "cell_type": "code",
   "execution_count": 4,
   "id": "a4b38ef4-adfe-45fc-a949-f92b73cc1ea9",
   "metadata": {},
   "outputs": [
    {
     "data": {
      "text/plain": [
       "57"
      ]
     },
     "execution_count": 4,
     "metadata": {},
     "output_type": "execute_result"
    }
   ],
   "source": [
    "sum(['AgendaCenter' in url for url in df['Agenda Page'].drop_duplicates().dropna().values])"
   ]
  },
  {
   "cell_type": "markdown",
   "id": "b6e1b9e7-e94d-4e40-851f-07db1313a9c5",
   "metadata": {},
   "source": [
    "The substring 'Agenda Center' indicates the city uses CivicPlus."
   ]
  },
  {
   "cell_type": "markdown",
   "id": "96db2bce-fe6c-4c6c-9c72-77a174fba67a",
   "metadata": {},
   "source": [
    "The civic plus scraper fails if you include the legislative body name in the URL, like so:"
   ]
  },
  {
   "cell_type": "code",
   "execution_count": 5,
   "id": "87323591-f131-41ae-bede-b5dd72a994c2",
   "metadata": {},
   "outputs": [
    {
     "name": "stdout",
     "output_type": "stream",
     "text": [
      "https://www.malibucity.org/AgendaCenter/Planning-Commission-4\n",
      "https://www.malibucity.org/AgendaCenter/City-Council-8\n",
      "https://ca-irwindale2.civicplus.com/AgendaCenter/City-Council-1\n",
      "https://www.irwindaleca.gov/AgendaCenter/Planning-Commission-3\n"
     ]
    }
   ],
   "source": [
    "print('\\n'.join(['https://www.malibucity.org/AgendaCenter/Planning-Commission-4',\n",
    "                  'https://www.malibucity.org/AgendaCenter/City-Council-8',\n",
    "                  'https://ca-irwindale2.civicplus.com/AgendaCenter/City-Council-1',\n",
    "                  'https://www.irwindaleca.gov/AgendaCenter/Planning-Commission-3']))"
   ]
  },
  {
   "cell_type": "markdown",
   "id": "eba21db8-c52e-4d9b-8796-5000cbeeb050",
   "metadata": {},
   "source": [
    "So we need to strip URLs of everything after AgendaCenter."
   ]
  },
  {
   "cell_type": "code",
   "execution_count": 6,
   "id": "771ffca1-e3bd-422b-8420-f06d577c2225",
   "metadata": {},
   "outputs": [],
   "source": [
    "civicplus_cities = df[df['Agenda Page'].str.lower().str.contains('agendacenter')]"
   ]
  },
  {
   "cell_type": "code",
   "execution_count": 7,
   "id": "b74f1c36-7730-473a-a441-dd2d17cbc2e2",
   "metadata": {},
   "outputs": [
    {
     "data": {
      "text/plain": [
       "40"
      ]
     },
     "execution_count": 7,
     "metadata": {},
     "output_type": "execute_result"
    }
   ],
   "source": [
    "civicplus_cities.Jurisdiction.nunique()"
   ]
  },
  {
   "cell_type": "code",
   "execution_count": 8,
   "id": "7d606a47-2a7a-4a71-be98-2c7d64a14d18",
   "metadata": {},
   "outputs": [],
   "source": [
    "civicplus_cities.loc[:, 'Agenda Page'] = civicplus_cities['Agenda Page'].apply(\n",
    "    lambda url: url if url.lower().endswith('agendacenter') else url.lower().split('agendacenter')[0] + 'AgendaCenter'\n",
    ")"
   ]
  },
  {
   "cell_type": "code",
   "execution_count": 9,
   "id": "fa451656-bedf-41fb-9291-15bd5bb3e203",
   "metadata": {},
   "outputs": [],
   "source": [
    "civicplus_cities = civicplus_cities.drop_duplicates('Agenda Page')"
   ]
  },
  {
   "cell_type": "code",
   "execution_count": 10,
   "id": "71f73be7-b96b-42e4-bd68-672d08dfb589",
   "metadata": {},
   "outputs": [],
   "source": [
    "civicplus_cities = civicplus_cities.drop_duplicates(['County', 'Jurisdiction'])"
   ]
  },
  {
   "cell_type": "code",
   "execution_count": 11,
   "id": "bcd6081e-a3d8-49ab-a3c9-21cb0eac5ede",
   "metadata": {},
   "outputs": [
    {
     "data": {
      "text/plain": [
       "(40, 4)"
      ]
     },
     "execution_count": 11,
     "metadata": {},
     "output_type": "execute_result"
    }
   ],
   "source": [
    "civicplus_cities.shape"
   ]
  },
  {
   "cell_type": "code",
   "execution_count": 14,
   "id": "98ca92fb-69c4-4568-b66f-36f073522716",
   "metadata": {},
   "outputs": [
    {
     "name": "stdout",
     "output_type": "stream",
     "text": [
      "2.5 %\n",
      "5.0 %\n",
      "7.5 %\n",
      "10.0 %\n",
      "12.5 %\n",
      "15.0 %\n",
      "17.5 %\n",
      "20.0 %\n",
      "22.5 %\n",
      "25.0 %\n",
      "27.5 %\n",
      "30.0 %\n",
      "https://www.lahabracity.com/AgendaCenter\n",
      "('Connection aborted.', ConnectionResetError(54, 'Connection reset by peer'))\n",
      "32.5 %\n",
      "35.0 %\n",
      "37.5 %\n",
      "40.0 %\n",
      "42.5 %\n",
      "45.0 %\n",
      "47.5 %\n",
      "50.0 %\n",
      "52.5 %\n",
      "55.0 %\n",
      "57.5 %\n",
      "60.0 %\n",
      "62.5 %\n",
      "65.0 %\n",
      "67.5 %\n",
      "70.0 %\n",
      "72.5 %\n",
      "75.0 %\n",
      "77.5 %\n",
      "80.0 %\n",
      "82.5 %\n",
      "85.0 %\n",
      "87.5 %\n",
      "90.0 %\n",
      "92.5 %\n",
      "95.0 %\n",
      "97.5 %\n",
      "100.0 %\n"
     ]
    }
   ],
   "source": [
    "import concurrent.futures\n",
    "\n",
    "assets_map = {}\n",
    "\n",
    "def process_row(row):\n",
    "    try:\n",
    "        url = row['Agenda Page']\n",
    "        site = CivicPlusSite(url)\n",
    "        assets_metadata = site.scrape(\n",
    "            start_date='2024-03-26',\n",
    "            download=True,\n",
    "            file_size=20,\n",
    "            asset_list=['agenda', 'minutes', 'agenda_packet', 'captions']\n",
    "        )\n",
    "        # Write metadata CSV (ensure the directory exists beforehand)\n",
    "        metadata_path = f\"./civic-scraper/{row['Jurisdiction']}/\"\n",
    "        assets_metadata.to_csv(metadata_path)\n",
    "        return row['Jurisdiction'], assets_metadata\n",
    "    except Exception as e:\n",
    "        print(url)\n",
    "        print(e)\n",
    "        return row['Jurisdiction'], []\n",
    "\n",
    "total = civicplus_cities.shape[0]\n",
    "with concurrent.futures.ThreadPoolExecutor(max_workers=10) as executor:\n",
    "    # Submit each row for processing. Note: iterrows returns (index, row)\n",
    "    futures = {executor.submit(process_row, row): idx for idx, row in civicplus_cities.iterrows()}\n",
    "    \n",
    "    # Use as_completed to print progress as each future finishes\n",
    "    for i, future in enumerate(concurrent.futures.as_completed(futures), start=1):\n",
    "        jurisdiction, assets_metadata = future.result()\n",
    "        assets_map[jurisdiction] = assets_metadata\n",
    "        print(round(100 * i / total, 2), '%')\n"
   ]
  },
  {
   "cell_type": "code",
   "execution_count": 13,
   "id": "8f9d6636-091e-451f-bcbe-e472516dc839",
   "metadata": {},
   "outputs": [
    {
     "data": {
      "text/plain": [
       "34"
      ]
     },
     "execution_count": 13,
     "metadata": {},
     "output_type": "execute_result"
    }
   ],
   "source": [
    "# successful matches\n",
    "len([k for k, v in assets_map.items() if len(v) > 0])"
   ]
  },
  {
   "cell_type": "code",
   "execution_count": null,
   "id": "da23dc83-1869-4f6d-be9d-b649acddb259",
   "metadata": {},
   "outputs": [],
   "source": []
  }
 ],
 "metadata": {
  "kernelspec": {
   "display_name": "project",
   "language": "python",
   "name": "project"
  },
  "language_info": {
   "codemirror_mode": {
    "name": "ipython",
    "version": 3
   },
   "file_extension": ".py",
   "mimetype": "text/x-python",
   "name": "python",
   "nbconvert_exporter": "python",
   "pygments_lexer": "ipython3",
   "version": "3.13.2"
  }
 },
 "nbformat": 4,
 "nbformat_minor": 5
}
